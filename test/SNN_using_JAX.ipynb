{
  "nbformat": 4,
  "nbformat_minor": 0,
  "metadata": {
    "colab": {
      "provenance": [],
      "authorship_tag": "ABX9TyP5bJqVT4tY+uvSwdLdmH0w",
      "include_colab_link": true
    },
    "kernelspec": {
      "name": "python3",
      "display_name": "Python 3"
    },
    "language_info": {
      "name": "python"
    }
  },
  "cells": [
    {
      "cell_type": "markdown",
      "metadata": {
        "id": "view-in-github",
        "colab_type": "text"
      },
      "source": [
        "<a href=\"https://colab.research.google.com/github/Mathavk1606/1DHD-PINN/blob/main/test/SNN_using_JAX.ipynb\" target=\"_parent\"><img src=\"https://colab.research.google.com/assets/colab-badge.svg\" alt=\"Open In Colab\"/></a>"
      ]
    },
    {
      "cell_type": "code",
      "execution_count": 1,
      "metadata": {
        "id": "RhJX9jpf0PbV"
      },
      "outputs": [],
      "source": [
        "import jax\n",
        "import jax.numpy as jnp\n",
        "from jax import grad, jit, random\n",
        "from jax.scipy.special import logsumexp"
      ]
    },
    {
      "cell_type": "code",
      "source": [
        "def init_network_params(layer_sizes, key):\n",
        "    params = []\n",
        "    keys = random.split(key, len(layer_sizes))\n",
        "\n",
        "    for i in range(len(layer_sizes) - 1):\n",
        "        w_key, b_key = random.split(keys[i])\n",
        "        # Xavier initialization\n",
        "        scale = jnp.sqrt(2.0 / (layer_sizes[i] + layer_sizes[i + 1]))\n",
        "        w = random.normal(w_key, (layer_sizes[i], layer_sizes[i + 1])) * scale\n",
        "        b = jnp.zeros(layer_sizes[i + 1])\n",
        "        params.append((w, b))\n",
        "\n",
        "    return params"
      ],
      "metadata": {
        "id": "hiQzf9mimB1u"
      },
      "execution_count": 2,
      "outputs": []
    },
    {
      "cell_type": "code",
      "source": [
        "def relu(x):\n",
        "    return jnp.maximum(0, x)"
      ],
      "metadata": {
        "id": "qvQ4BuvjmFDj"
      },
      "execution_count": 3,
      "outputs": []
    },
    {
      "cell_type": "code",
      "source": [
        "def predict(params, x):\n",
        "    activations = x\n",
        "    for w, b in params[:-1]:\n",
        "        activations = relu(jnp.dot(activations, w) + b)\n",
        "\n",
        "    # Final layer (no activation)\n",
        "    final_w, final_b = params[-1]\n",
        "    logits = jnp.dot(activations, final_w) + final_b\n",
        "    return logits - logsumexp(logits, axis=1, keepdims=True)"
      ],
      "metadata": {
        "id": "BBEOiRdHmHXd"
      },
      "execution_count": 4,
      "outputs": []
    },
    {
      "cell_type": "code",
      "source": [
        "def loss(params, x, y):\n",
        "    preds = predict(params, x)\n",
        "    return -jnp.mean(preds * y)"
      ],
      "metadata": {
        "id": "nyiczoFamJdS"
      },
      "execution_count": 5,
      "outputs": []
    },
    {
      "cell_type": "code",
      "source": [
        "def accuracy(params, x, y):\n",
        "    pred_classes = jnp.argmax(predict(params, x), axis=1)\n",
        "    true_classes = jnp.argmax(y, axis=1)\n",
        "    return jnp.mean(pred_classes == true_classes)\n"
      ],
      "metadata": {
        "id": "IpAD3aD9mPnf"
      },
      "execution_count": 6,
      "outputs": []
    },
    {
      "cell_type": "code",
      "source": [
        "@jit\n",
        "def update(params, x, y, lr):\n",
        "    grads = grad(loss)(params, x, y)\n",
        "    return [(w - lr * dw, b - lr * db)\n",
        "            for (w, b), (dw, db) in zip(params, grads)]"
      ],
      "metadata": {
        "id": "wa4hKamvmRnL"
      },
      "execution_count": 7,
      "outputs": []
    },
    {
      "cell_type": "code",
      "source": [
        "def generate_data(n_samples, key):\n",
        "    key1, key2 = random.split(key)\n",
        "    X = random.uniform(key1, (n_samples, 2), minval=-1, maxval=1)\n",
        "    y_raw = ((X[:, 0] > 0) ^ (X[:, 1] > 0)).astype(int)\n",
        "    y = jnp.eye(2)[y_raw]\n",
        "    return X, y"
      ],
      "metadata": {
        "id": "1xNbRe-9mTh2"
      },
      "execution_count": 8,
      "outputs": []
    },
    {
      "cell_type": "code",
      "source": [
        "key = random.PRNGKey(42)\n",
        "layer_sizes = [2, 16, 16, 2]\n",
        "params = init_network_params(layer_sizes, key)\n",
        "\n",
        "key, subkey = random.split(key)\n",
        "X_train, y_train = generate_data(1000, subkey)\n",
        "X_test, y_test = generate_data(200, subkey)\n",
        "\n",
        "learning_rate = 0.01\n",
        "n_epochs = 100\n",
        "\n",
        "print(\"Training simple neural network with JAX...\")\n",
        "print(f\"Architecture: {' -> '.join(map(str, layer_sizes))}\")\n",
        "print(f\"Learning rate: {learning_rate}\")\n",
        "print(\"-\" * 50)\n",
        "\n",
        "for epoch in range(n_epochs):\n",
        "    params = update(params, X_train, y_train, learning_rate)\n",
        "\n",
        "    if (epoch + 1) % 10 == 0:\n",
        "        train_loss = loss(params, X_train, y_train)\n",
        "        train_acc = accuracy(params, X_train, y_train)\n",
        "        test_acc = accuracy(params, X_test, y_test)\n",
        "        print(f\"Epoch {epoch + 1:3d} | Loss: {train_loss:.4f} | \"\n",
        "              f\"Train Acc: {train_acc:.3f} | Test Acc: {test_acc:.3f}\")\n",
        "\n",
        "print(\"-\" * 50)\n",
        "print(\"Training complete!\")\n",
        "\n",
        "test_point = jnp.array([[0.5, -0.5]])\n",
        "prediction = predict(params, test_point)\n",
        "pred_class = jnp.argmax(prediction)\n",
        "print(f\"\\nTest prediction for point {test_point[0]}: Class {pred_class}\")"
      ],
      "metadata": {
        "colab": {
          "base_uri": "https://localhost:8080/"
        },
        "id": "34L4xlpcmXar",
        "outputId": "cfed6f13-3adb-416e-b99d-946ebf8413bc"
      },
      "execution_count": 10,
      "outputs": [
        {
          "output_type": "stream",
          "name": "stdout",
          "text": [
            "Training simple neural network with JAX...\n",
            "Architecture: 2 -> 16 -> 16 -> 2\n",
            "Learning rate: 0.01\n",
            "--------------------------------------------------\n",
            "Epoch  10 | Loss: 0.3443 | Train Acc: 0.563 | Test Acc: 0.610\n",
            "Epoch  20 | Loss: 0.3426 | Train Acc: 0.561 | Test Acc: 0.610\n",
            "Epoch  30 | Loss: 0.3410 | Train Acc: 0.552 | Test Acc: 0.600\n",
            "Epoch  40 | Loss: 0.3395 | Train Acc: 0.540 | Test Acc: 0.585\n",
            "Epoch  50 | Loss: 0.3380 | Train Acc: 0.541 | Test Acc: 0.585\n",
            "Epoch  60 | Loss: 0.3366 | Train Acc: 0.545 | Test Acc: 0.585\n",
            "Epoch  70 | Loss: 0.3352 | Train Acc: 0.544 | Test Acc: 0.580\n",
            "Epoch  80 | Loss: 0.3339 | Train Acc: 0.547 | Test Acc: 0.590\n",
            "Epoch  90 | Loss: 0.3326 | Train Acc: 0.552 | Test Acc: 0.590\n",
            "Epoch 100 | Loss: 0.3313 | Train Acc: 0.559 | Test Acc: 0.590\n",
            "--------------------------------------------------\n",
            "Training complete!\n",
            "\n",
            "Test prediction for point [ 0.5 -0.5]: Class 0\n"
          ]
        }
      ]
    },
    {
      "cell_type": "code",
      "source": [],
      "metadata": {
        "id": "vESJuITfmics"
      },
      "execution_count": null,
      "outputs": []
    }
  ]
}