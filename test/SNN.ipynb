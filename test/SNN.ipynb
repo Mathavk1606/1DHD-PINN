{
  "nbformat": 4,
  "nbformat_minor": 0,
  "metadata": {
    "colab": {
      "provenance": [],
      "authorship_tag": "ABX9TyOpTCZRReifYHmF0LdQVl+z",
      "include_colab_link": true
    },
    "kernelspec": {
      "name": "python3",
      "display_name": "Python 3"
    },
    "language_info": {
      "name": "python"
    }
  },
  "cells": [
    {
      "cell_type": "markdown",
      "metadata": {
        "id": "view-in-github",
        "colab_type": "text"
      },
      "source": [
        "<a href=\"https://colab.research.google.com/github/Mathavk1606/1DHD-PINN/blob/main/test/SNN.ipynb\" target=\"_parent\"><img src=\"https://colab.research.google.com/assets/colab-badge.svg\" alt=\"Open In Colab\"/></a>"
      ]
    },
    {
      "cell_type": "code",
      "execution_count": 1,
      "metadata": {
        "id": "4blFNHO9pjkg"
      },
      "outputs": [],
      "source": [
        "import numpy as np"
      ]
    },
    {
      "cell_type": "code",
      "source": [
        "def sigmoid(x):\n",
        "  return np.tanh(x)"
      ],
      "metadata": {
        "id": "biz4ciYYrMEt"
      },
      "execution_count": 3,
      "outputs": []
    },
    {
      "cell_type": "code",
      "source": [
        "#al = sigmoid*(wl.al+b)\n",
        "#cost_function = (yi-al)^2\n",
        "\n",
        "#diff cf/weight"
      ],
      "metadata": {
        "id": "_s5eTQ5qrlMN"
      },
      "execution_count": 4,
      "outputs": []
    },
    {
      "cell_type": "code",
      "source": [
        "#step 1 : Implement feed forward implementation"
      ],
      "metadata": {
        "id": "jB7AsDjmsOcQ"
      },
      "execution_count": 5,
      "outputs": []
    },
    {
      "cell_type": "code",
      "source": [],
      "metadata": {
        "id": "gA14tWMYs5ZK"
      },
      "execution_count": null,
      "outputs": []
    }
  ]
}