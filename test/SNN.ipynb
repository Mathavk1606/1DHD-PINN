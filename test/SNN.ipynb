{
  "nbformat": 4,
  "nbformat_minor": 0,
  "metadata": {
    "colab": {
      "provenance": [],
      "include_colab_link": true
    },
    "kernelspec": {
      "name": "python3",
      "display_name": "Python 3"
    },
    "language_info": {
      "name": "python"
    }
  },
  "cells": [
    {
      "cell_type": "markdown",
      "metadata": {
        "id": "view-in-github",
        "colab_type": "text"
      },
      "source": [
        "<a href=\"https://colab.research.google.com/github/Mathavk1606/1DHD-PINN/blob/main/test/SNN.ipynb\" target=\"_parent\"><img src=\"https://colab.research.google.com/assets/colab-badge.svg\" alt=\"Open In Colab\"/></a>"
      ]
    },
    {
      "cell_type": "code",
      "execution_count": 5,
      "metadata": {
        "id": "4blFNHO9pjkg"
      },
      "outputs": [],
      "source": [
        "import numpy as np"
      ]
    },
    {
      "cell_type": "code",
      "source": [
        "def sigmoid(x):\n",
        "  return np.tanh(x)"
      ],
      "metadata": {
        "id": "biz4ciYYrMEt"
      },
      "execution_count": 6,
      "outputs": []
    },
    {
      "cell_type": "code",
      "source": [
        "#step 1 : Implement feed forward implementation"
      ],
      "metadata": {
        "id": "jB7AsDjmsOcQ"
      },
      "execution_count": 7,
      "outputs": []
    },
    {
      "cell_type": "code",
      "source": [
        "class SNN:\n",
        "  def __init__(self,layers):\n",
        "    self.layers = layers\n",
        "    self.weights = []\n",
        "    self.biases = []\n",
        "\n",
        "    for i in range(len(layers)-1):\n",
        "      wts = np.random.rand(layers[i+1],layers[i])*0.001\n",
        "      self.weights.append(wts)\n",
        "      bs = np.zeros((layers[i+1], 1))\n",
        "      self.biases.append(bs)\n",
        "\n",
        "  def feed_forward(self,X):\n",
        "    activations = [X]\n",
        "    for i in range(len(self.weights)):\n",
        "        z = np.dot(self.weights[i], activations[-1]) + self.biases[i]\n",
        "        a = sigmoid(z)\n",
        "        activations.append(a)\n",
        "\n",
        "    return activations[-1], activations\n"
      ],
      "metadata": {
        "id": "gA14tWMYs5ZK"
      },
      "execution_count": 8,
      "outputs": []
    },
    {
      "cell_type": "code",
      "source": [
        "def create_snn_example():\n",
        "    layers = [2, 3, 1]\n",
        "    snn = SNN(layers)\n",
        "    X = np.array([[0.5], [0.3]])\n",
        "    output, activations = snn.feed_forward(X)\n",
        "    return output, activations\n",
        "\n",
        "if __name__ == \"__main__\":\n",
        "    output, activations = create_snn_example()\n",
        "    print(\"Output:\", output)\n",
        "    print(\"Activations:\", activations)"
      ],
      "metadata": {
        "id": "_lTHNKQ6_AU4",
        "outputId": "819fb677-b866-4dcc-e871-e16137165d3a",
        "colab": {
          "base_uri": "https://localhost:8080/"
        }
      },
      "execution_count": 9,
      "outputs": [
        {
          "output_type": "stream",
          "name": "stdout",
          "text": [
            "Output: [[3.91194554e-07]]\n",
            "Activations: [array([[0.5],\n",
            "       [0.3]]), array([[0.00021477],\n",
            "       [0.00030898],\n",
            "       [0.00016481]]), array([[3.91194554e-07]])]\n"
          ]
        }
      ]
    },
    {
      "cell_type": "code",
      "source": [],
      "metadata": {
        "id": "z3rgjF99H4R7"
      },
      "execution_count": null,
      "outputs": []
    }
  ]
}